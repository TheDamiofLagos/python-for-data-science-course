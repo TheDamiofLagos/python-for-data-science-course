{
 "cells": [
  {
   "cell_type": "code",
   "execution_count": 1,
   "id": "061d1ab1",
   "metadata": {},
   "outputs": [],
   "source": [
    "import warnings\n",
    "warnings.simplefilter(action='ignore')\n",
    "\n",
    "import joblib\n",
    "from sklearn.linear_model import LinearRegression"
   ]
  },
  {
   "cell_type": "code",
   "execution_count": 2,
   "id": "03eba037",
   "metadata": {},
   "outputs": [],
   "source": [
    "# Load our trained model\n",
    "loadedModel = joblib.load('ourLinearRegressionModel.pkl')"
   ]
  },
  {
   "cell_type": "code",
   "execution_count": 3,
   "id": "1e7a8f6c",
   "metadata": {},
   "outputs": [],
   "source": [
    "predictedSales = loadedModel.predict([[22]])"
   ]
  },
  {
   "cell_type": "code",
   "execution_count": 4,
   "id": "6c4c6e64",
   "metadata": {},
   "outputs": [
    {
     "data": {
      "text/plain": [
       "array([15.225549])"
      ]
     },
     "execution_count": 4,
     "metadata": {},
     "output_type": "execute_result"
    }
   ],
   "source": [
    "predictedSales"
   ]
  },
  {
   "cell_type": "code",
   "execution_count": null,
   "id": "54aaecfd",
   "metadata": {},
   "outputs": [],
   "source": []
  }
 ],
 "metadata": {
  "kernelspec": {
   "display_name": "Python 3 (ipykernel)",
   "language": "python",
   "name": "python3"
  },
  "language_info": {
   "codemirror_mode": {
    "name": "ipython",
    "version": 3
   },
   "file_extension": ".py",
   "mimetype": "text/x-python",
   "name": "python",
   "nbconvert_exporter": "python",
   "pygments_lexer": "ipython3",
   "version": "3.9.12"
  }
 },
 "nbformat": 4,
 "nbformat_minor": 5
}
