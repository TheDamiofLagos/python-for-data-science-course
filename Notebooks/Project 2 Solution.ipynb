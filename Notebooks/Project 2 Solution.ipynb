{
 "cells": [
  {
   "cell_type": "code",
   "execution_count": 4,
   "id": "17f07b73",
   "metadata": {},
   "outputs": [],
   "source": [
    "# Create my initial tuple\n",
    "names = ('Tom', 'Jerry')"
   ]
  },
  {
   "cell_type": "code",
   "execution_count": 5,
   "id": "f0ab492f",
   "metadata": {},
   "outputs": [
    {
     "name": "stdout",
     "output_type": "stream",
     "text": [
      "('Tom', 'Jerry')\n"
     ]
    }
   ],
   "source": [
    "# print out my tuple\n",
    "print(names)"
   ]
  },
  {
   "cell_type": "code",
   "execution_count": 8,
   "id": "84d94705",
   "metadata": {},
   "outputs": [
    {
     "name": "stdout",
     "output_type": "stream",
     "text": [
      "<class 'list'>\n",
      "['Tom', 'Jerry']\n"
     ]
    }
   ],
   "source": [
    "# convert tuple to list\n",
    "\n",
    "name_list = list(names)\n",
    "print(type(name_list))\n",
    "print(name_list)"
   ]
  },
  {
   "cell_type": "code",
   "execution_count": 9,
   "id": "7fe2ec2d",
   "metadata": {},
   "outputs": [
    {
     "name": "stdout",
     "output_type": "stream",
     "text": [
      "['Tom', 'Jerry', 'Mary']\n"
     ]
    }
   ],
   "source": [
    "# add items to list\n",
    "\n",
    "name_list.append('Mary')\n",
    "print(name_list)"
   ]
  },
  {
   "cell_type": "code",
   "execution_count": 10,
   "id": "ab749fe9",
   "metadata": {},
   "outputs": [
    {
     "name": "stdout",
     "output_type": "stream",
     "text": [
      "('Tom', 'Jerry', 'Mary')\n"
     ]
    }
   ],
   "source": [
    "# convert list back to tuple\n",
    "\n",
    "names = tuple(name_list)\n",
    "\n",
    "print(names)"
   ]
  },
  {
   "cell_type": "code",
   "execution_count": null,
   "id": "08abecec",
   "metadata": {},
   "outputs": [],
   "source": []
  }
 ],
 "metadata": {
  "kernelspec": {
   "display_name": "Python 3 (ipykernel)",
   "language": "python",
   "name": "python3"
  },
  "language_info": {
   "codemirror_mode": {
    "name": "ipython",
    "version": 3
   },
   "file_extension": ".py",
   "mimetype": "text/x-python",
   "name": "python",
   "nbconvert_exporter": "python",
   "pygments_lexer": "ipython3",
   "version": "3.9.12"
  }
 },
 "nbformat": 4,
 "nbformat_minor": 5
}
