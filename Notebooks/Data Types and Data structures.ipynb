{
 "cells": [
  {
   "cell_type": "markdown",
   "id": "a1910b30",
   "metadata": {},
   "source": [
    "### Data Type"
   ]
  },
  {
   "cell_type": "markdown",
   "id": "1d7f71d3",
   "metadata": {},
   "source": [
    "#### Text Data Types"
   ]
  },
  {
   "cell_type": "code",
   "execution_count": 2,
   "id": "9277efd8",
   "metadata": {},
   "outputs": [
    {
     "data": {
      "text/plain": [
       "'Hello'"
      ]
     },
     "execution_count": 2,
     "metadata": {},
     "output_type": "execute_result"
    }
   ],
   "source": [
    "# They are called strings in python\n",
    "\n",
    "\"Hello\"\n",
    "'Hello'"
   ]
  },
  {
   "cell_type": "code",
   "execution_count": 3,
   "id": "6f8d2ef7",
   "metadata": {},
   "outputs": [
    {
     "name": "stdout",
     "output_type": "stream",
     "text": [
      "Hello World\n"
     ]
    }
   ],
   "source": [
    "print('Hello World')"
   ]
  },
  {
   "cell_type": "code",
   "execution_count": 4,
   "id": "998ef4a3",
   "metadata": {},
   "outputs": [
    {
     "name": "stdout",
     "output_type": "stream",
     "text": [
      "32\n"
     ]
    }
   ],
   "source": [
    "print(32)"
   ]
  },
  {
   "cell_type": "code",
   "execution_count": 5,
   "id": "e6206035",
   "metadata": {},
   "outputs": [
    {
     "name": "stdout",
     "output_type": "stream",
     "text": [
      "Johnson\n"
     ]
    }
   ],
   "source": [
    "name = 'Johnson'\n",
    "print(name)"
   ]
  },
  {
   "cell_type": "code",
   "execution_count": null,
   "id": "7e875782",
   "metadata": {},
   "outputs": [],
   "source": [
    "address = \"\"\"\n",
    "5, Brixton road, Newhampshire,\n",
    "UK.\n",
    "Postal code: 34576\n",
    "\"\"\"\n",
    "\n",
    "address2 = '''\n",
    "24, Badmus street, Agege,\n",
    "Lagos.\n",
    "'''"
   ]
  },
  {
   "cell_type": "markdown",
   "id": "33aa5175",
   "metadata": {},
   "source": [
    "##### Slicing Strings"
   ]
  },
  {
   "cell_type": "code",
   "execution_count": 8,
   "id": "0c0f6589",
   "metadata": {},
   "outputs": [
    {
     "data": {
      "text/plain": [
       "'av'"
      ]
     },
     "execution_count": 8,
     "metadata": {},
     "output_type": "execute_result"
    }
   ],
   "source": [
    "name = 'David'\n",
    "name[1:3]"
   ]
  },
  {
   "cell_type": "code",
   "execution_count": 9,
   "id": "8e75f72b",
   "metadata": {},
   "outputs": [
    {
     "data": {
      "text/plain": [
       "'avi'"
      ]
     },
     "execution_count": 9,
     "metadata": {},
     "output_type": "execute_result"
    }
   ],
   "source": [
    "name[1:4]"
   ]
  },
  {
   "cell_type": "code",
   "execution_count": 10,
   "id": "f7474005",
   "metadata": {},
   "outputs": [
    {
     "data": {
      "text/plain": [
       "'Birthday'"
      ]
     },
     "execution_count": 10,
     "metadata": {},
     "output_type": "execute_result"
    }
   ],
   "source": [
    "s = 'Happy Birthday'\n",
    "s[6:]"
   ]
  },
  {
   "cell_type": "code",
   "execution_count": 12,
   "id": "d37e971c",
   "metadata": {},
   "outputs": [
    {
     "data": {
      "text/plain": [
       "'Happy'"
      ]
     },
     "execution_count": 12,
     "metadata": {},
     "output_type": "execute_result"
    }
   ],
   "source": [
    "s[0:5]"
   ]
  },
  {
   "cell_type": "markdown",
   "id": "52d61f0b",
   "metadata": {},
   "source": [
    "##### Concatenating Strings"
   ]
  },
  {
   "cell_type": "code",
   "execution_count": 14,
   "id": "4e7a09dd",
   "metadata": {},
   "outputs": [
    {
     "name": "stdout",
     "output_type": "stream",
     "text": [
      "Happy Birthday\n"
     ]
    }
   ],
   "source": [
    "a = 'Happy'\n",
    "b = 'Birthday'\n",
    "d = ' '\n",
    "c = a + d + b\n",
    "print(c)"
   ]
  },
  {
   "cell_type": "code",
   "execution_count": 16,
   "id": "642da7b5",
   "metadata": {},
   "outputs": [
    {
     "name": "stdout",
     "output_type": "stream",
     "text": [
      "HappyBirthday\n",
      "Happy Birthday\n"
     ]
    }
   ],
   "source": [
    "print(a + b)\n",
    "print(a, b)"
   ]
  },
  {
   "cell_type": "markdown",
   "id": "9711af9c",
   "metadata": {},
   "source": [
    "#### Numeric Data Type"
   ]
  },
  {
   "cell_type": "code",
   "execution_count": 28,
   "id": "5353d8a5",
   "metadata": {},
   "outputs": [
    {
     "name": "stdout",
     "output_type": "stream",
     "text": [
      "<class 'int'>\n",
      "<class 'float'>\n",
      "<class 'complex'>\n"
     ]
    }
   ],
   "source": [
    "x = 10\n",
    "y = 3.142\n",
    "z = 1j\n",
    "\n",
    "print(type(x))\n",
    "print(type(y))\n",
    "print(type(z))"
   ]
  },
  {
   "cell_type": "markdown",
   "id": "5b9ec357",
   "metadata": {},
   "source": [
    "##### Converting from one data type to another"
   ]
  },
  {
   "cell_type": "code",
   "execution_count": 30,
   "id": "fda09052",
   "metadata": {},
   "outputs": [
    {
     "name": "stdout",
     "output_type": "stream",
     "text": [
      "10.0\n",
      "<class 'float'>\n"
     ]
    }
   ],
   "source": [
    "# Convert Int to float\n",
    "\n",
    "x_conv = float(x)\n",
    "print(x_conv)\n",
    "print(type(x_conv))"
   ]
  },
  {
   "cell_type": "code",
   "execution_count": 32,
   "id": "9b477ae2",
   "metadata": {},
   "outputs": [
    {
     "name": "stdout",
     "output_type": "stream",
     "text": [
      "3\n",
      "<class 'int'>\n"
     ]
    }
   ],
   "source": [
    "# Convert Float to Int\n",
    "\n",
    "y_conv = int(y)\n",
    "print(y_conv)\n",
    "print(type(y_conv))"
   ]
  },
  {
   "cell_type": "code",
   "execution_count": 34,
   "id": "57af9103",
   "metadata": {},
   "outputs": [
    {
     "name": "stdout",
     "output_type": "stream",
     "text": [
      "(20+0j)\n",
      "<class 'complex'>\n"
     ]
    }
   ],
   "source": [
    "# convert from int to complex\n",
    "\n",
    "a = 20\n",
    "a_conv = complex(a)\n",
    "print(a_conv)\n",
    "print(type(a_conv))"
   ]
  },
  {
   "cell_type": "markdown",
   "id": "f31dc7bb",
   "metadata": {},
   "source": [
    "#### Data Structures"
   ]
  },
  {
   "cell_type": "markdown",
   "id": "05e99259",
   "metadata": {},
   "source": [
    "##### Lists"
   ]
  },
  {
   "cell_type": "code",
   "execution_count": 37,
   "id": "49b161ec",
   "metadata": {},
   "outputs": [
    {
     "data": {
      "text/plain": [
       "list"
      ]
     },
     "execution_count": 37,
     "metadata": {},
     "output_type": "execute_result"
    }
   ],
   "source": [
    "# Creating our first list\n",
    "\n",
    "myList = []"
   ]
  },
  {
   "cell_type": "code",
   "execution_count": 38,
   "id": "dff2cb81",
   "metadata": {},
   "outputs": [],
   "source": [
    "fruits = ['apple', 'banana', 'cherry']"
   ]
  },
  {
   "cell_type": "code",
   "execution_count": 39,
   "id": "c55ed4f9",
   "metadata": {},
   "outputs": [],
   "source": [
    "anotherList = [1, 'india', 3.142, True, 'David', ['apple', 'banana', 'cherry']]"
   ]
  },
  {
   "cell_type": "markdown",
   "id": "5eb07c59",
   "metadata": {},
   "source": [
    "##### Accessing List elements"
   ]
  },
  {
   "cell_type": "code",
   "execution_count": 43,
   "id": "108ef030",
   "metadata": {},
   "outputs": [
    {
     "data": {
      "text/plain": [
       "'cherry'"
      ]
     },
     "execution_count": 43,
     "metadata": {},
     "output_type": "execute_result"
    }
   ],
   "source": [
    "fruits = ['apple', 'banana', 'cherry']\n",
    "fruits[2]"
   ]
  },
  {
   "cell_type": "code",
   "execution_count": 44,
   "id": "aeb4fa7e",
   "metadata": {},
   "outputs": [
    {
     "data": {
      "text/plain": [
       "['apple', 'banana']"
      ]
     },
     "execution_count": 44,
     "metadata": {},
     "output_type": "execute_result"
    }
   ],
   "source": [
    "fruits[0:2]"
   ]
  },
  {
   "cell_type": "markdown",
   "id": "fd3f7b2d",
   "metadata": {},
   "source": [
    "##### Add items to lists"
   ]
  },
  {
   "cell_type": "code",
   "execution_count": 46,
   "id": "895a920d",
   "metadata": {},
   "outputs": [
    {
     "name": "stdout",
     "output_type": "stream",
     "text": [
      "['apple', 'banana', 'cherry', 'Mango']\n"
     ]
    }
   ],
   "source": [
    "# Append method\n",
    "\n",
    "fruits = ['apple', 'banana', 'cherry']\n",
    "fruits.append('Mango')\n",
    "\n",
    "print(fruits)"
   ]
  },
  {
   "cell_type": "code",
   "execution_count": 47,
   "id": "fff1b27d",
   "metadata": {},
   "outputs": [
    {
     "name": "stdout",
     "output_type": "stream",
     "text": [
      "['Tangerine', 'apple', 'banana', 'cherry', 'Mango']\n"
     ]
    }
   ],
   "source": [
    "# Insert Method\n",
    "fruits.insert(0, 'Tangerine')\n",
    "print(fruits)"
   ]
  },
  {
   "cell_type": "code",
   "execution_count": 48,
   "id": "580d4157",
   "metadata": {},
   "outputs": [
    {
     "name": "stdout",
     "output_type": "stream",
     "text": [
      "['Tangerine', 'apple', 'banana', 'cherry', 'Mango', 'Pear', 'Strawberries']\n"
     ]
    }
   ],
   "source": [
    "# extend method\n",
    "anotherFruitList = ['Pear', 'Strawberries']\n",
    "\n",
    "fruits.extend(anotherFruitList)\n",
    "print(fruits)"
   ]
  },
  {
   "cell_type": "markdown",
   "id": "04ffd2be",
   "metadata": {},
   "source": [
    "##### Removing Items from Lists"
   ]
  },
  {
   "cell_type": "code",
   "execution_count": 49,
   "id": "0e105edc",
   "metadata": {},
   "outputs": [
    {
     "name": "stdout",
     "output_type": "stream",
     "text": [
      "['Tangerine', 'apple', 'cherry', 'Mango', 'Pear', 'Strawberries']\n"
     ]
    }
   ],
   "source": [
    "# remove method\n",
    "\n",
    "fruits.remove('banana')\n",
    "print(fruits)"
   ]
  },
  {
   "cell_type": "code",
   "execution_count": 50,
   "id": "866095f0",
   "metadata": {},
   "outputs": [
    {
     "name": "stdout",
     "output_type": "stream",
     "text": [
      "['Tangerine', 'apple', 'cherry', 'Mango', 'Pear']\n"
     ]
    }
   ],
   "source": [
    "# pop method\n",
    "\n",
    "fruits.pop()\n",
    "print(fruits)"
   ]
  },
  {
   "cell_type": "code",
   "execution_count": 52,
   "id": "66bf4689",
   "metadata": {},
   "outputs": [
    {
     "name": "stdout",
     "output_type": "stream",
     "text": [
      "['Tangerine', 'apple', 'Mango', 'Pear']\n"
     ]
    }
   ],
   "source": [
    "fruits.pop(2)\n",
    "print(fruits)"
   ]
  },
  {
   "cell_type": "code",
   "execution_count": 53,
   "id": "825235d3",
   "metadata": {},
   "outputs": [
    {
     "name": "stdout",
     "output_type": "stream",
     "text": [
      "[]\n"
     ]
    }
   ],
   "source": [
    "# clear methods\n",
    "fruits.clear()\n",
    "print(fruits)"
   ]
  },
  {
   "cell_type": "markdown",
   "id": "6ab7812c",
   "metadata": {},
   "source": [
    "##### Sorting a List"
   ]
  },
  {
   "cell_type": "code",
   "execution_count": 57,
   "id": "a7773bc0",
   "metadata": {},
   "outputs": [],
   "source": [
    "fruits = ['apple', 'mangoes', 'banana', 'cherry']"
   ]
  },
  {
   "cell_type": "code",
   "execution_count": 60,
   "id": "62060c65",
   "metadata": {},
   "outputs": [
    {
     "name": "stdout",
     "output_type": "stream",
     "text": [
      "['mangoes', 'cherry', 'banana', 'apple']\n"
     ]
    }
   ],
   "source": [
    "fruits.sort(reverse = True)\n",
    "print(fruits)"
   ]
  },
  {
   "cell_type": "markdown",
   "id": "6365adf0",
   "metadata": {},
   "source": [
    "#### Tuples"
   ]
  },
  {
   "cell_type": "code",
   "execution_count": 61,
   "id": "48f702aa",
   "metadata": {},
   "outputs": [
    {
     "data": {
      "text/plain": [
       "tuple"
      ]
     },
     "execution_count": 61,
     "metadata": {},
     "output_type": "execute_result"
    }
   ],
   "source": [
    "# Creating a tuple\n",
    "\n",
    "myTuple = ('John', 'Mary')\n",
    "type(myTuple)"
   ]
  },
  {
   "cell_type": "code",
   "execution_count": 62,
   "id": "473fe3c0",
   "metadata": {},
   "outputs": [],
   "source": [
    "coordinats = (1.111, 2.3444)"
   ]
  },
  {
   "cell_type": "markdown",
   "id": "cbdf6b8a",
   "metadata": {},
   "source": [
    "##### Accessing items in a tuple"
   ]
  },
  {
   "cell_type": "code",
   "execution_count": 63,
   "id": "372d6a1e",
   "metadata": {},
   "outputs": [
    {
     "data": {
      "text/plain": [
       "'Honda'"
      ]
     },
     "execution_count": 63,
     "metadata": {},
     "output_type": "execute_result"
    }
   ],
   "source": [
    "carBrand = ('BMW', 'Toyota', 'Honda', 'Volkswagen', 'Mercedes-Benz')\n",
    "\n",
    "carBrand[2]"
   ]
  },
  {
   "cell_type": "code",
   "execution_count": 65,
   "id": "9aa7540b",
   "metadata": {},
   "outputs": [
    {
     "data": {
      "text/plain": [
       "'Volkswagen'"
      ]
     },
     "execution_count": 65,
     "metadata": {},
     "output_type": "execute_result"
    }
   ],
   "source": [
    "carBrand[-2]"
   ]
  },
  {
   "cell_type": "code",
   "execution_count": 66,
   "id": "3370d4ea",
   "metadata": {},
   "outputs": [
    {
     "data": {
      "text/plain": [
       "('BMW', 'Toyota', 'Honda')"
      ]
     },
     "execution_count": 66,
     "metadata": {},
     "output_type": "execute_result"
    }
   ],
   "source": [
    "carBrand[0:3]"
   ]
  },
  {
   "cell_type": "markdown",
   "id": "65850926",
   "metadata": {},
   "source": [
    "##### Updating a tuple"
   ]
  },
  {
   "cell_type": "code",
   "execution_count": 71,
   "id": "6f3fef45",
   "metadata": {},
   "outputs": [
    {
     "name": "stdout",
     "output_type": "stream",
     "text": [
      "('Maybach', 'BMW', 'Toyota', 'Honda', 'Volkswagen', 'Mercedes-Benz')\n"
     ]
    }
   ],
   "source": [
    "# Convert the tuple to a list\n",
    "carBrand = ('BMW', 'Toyota', 'Honda', 'Volkswagen', 'Mercedes-Benz')\n",
    "\n",
    "carBrand_conv = list(carBrand)\n",
    "\n",
    "# add item to the converted list\n",
    "carBrand_conv.insert(0, 'Maybach')\n",
    "\n",
    "# convert list back to tuple\n",
    "carBrand = tuple(carBrand_conv)\n",
    "print(carBrand)"
   ]
  },
  {
   "cell_type": "markdown",
   "id": "1d493057",
   "metadata": {},
   "source": [
    "##### Join Tuples"
   ]
  },
  {
   "cell_type": "code",
   "execution_count": 73,
   "id": "8c09eb72",
   "metadata": {},
   "outputs": [
    {
     "name": "stdout",
     "output_type": "stream",
     "text": [
      "('apple', 'banana', 'mango', 'cherry')\n"
     ]
    }
   ],
   "source": [
    "fruit1 = ('apple', 'banana')\n",
    "fruit2 = ('mango', 'cherry')\n",
    "\n",
    "fruit_merged = fruit1 + fruit2\n",
    "print(fruit_merged)"
   ]
  },
  {
   "cell_type": "markdown",
   "id": "8d7916a3",
   "metadata": {},
   "source": [
    "#### Dictionaries"
   ]
  },
  {
   "cell_type": "code",
   "execution_count": 1,
   "id": "b0b9acd7",
   "metadata": {},
   "outputs": [],
   "source": [
    "students = {\n",
    "    \"name\": \"Usain Thunder\",\n",
    "    \"age\": 22,\n",
    "    \"Department\": \"Computer Science\"\n",
    "}"
   ]
  },
  {
   "cell_type": "code",
   "execution_count": 2,
   "id": "375bacf8",
   "metadata": {},
   "outputs": [
    {
     "name": "stdout",
     "output_type": "stream",
     "text": [
      "<class 'dict'>\n"
     ]
    }
   ],
   "source": [
    "print(type(students))"
   ]
  },
  {
   "cell_type": "markdown",
   "id": "3e528937",
   "metadata": {},
   "source": [
    "##### Accessing dictionary items"
   ]
  },
  {
   "cell_type": "code",
   "execution_count": 5,
   "id": "15ee3a80",
   "metadata": {},
   "outputs": [
    {
     "name": "stdout",
     "output_type": "stream",
     "text": [
      "Usain Thunder\n"
     ]
    }
   ],
   "source": [
    "# using the get() method, let's get the keys\n",
    "\n",
    "name = students.get('name')\n",
    "print(name)"
   ]
  },
  {
   "cell_type": "code",
   "execution_count": 7,
   "id": "d8d87956",
   "metadata": {},
   "outputs": [
    {
     "name": "stdout",
     "output_type": "stream",
     "text": [
      "22\n"
     ]
    }
   ],
   "source": [
    "y = students.get('age')\n",
    "print(y)"
   ]
  },
  {
   "cell_type": "code",
   "execution_count": 8,
   "id": "a732f3cb",
   "metadata": {},
   "outputs": [
    {
     "name": "stdout",
     "output_type": "stream",
     "text": [
      "dict_keys(['name', 'age', 'Department'])\n"
     ]
    }
   ],
   "source": [
    "# using the keys method will return a list of all the keys in the dictionary\n",
    "\n",
    "x = students.keys()\n",
    "print(x)"
   ]
  },
  {
   "cell_type": "code",
   "execution_count": 9,
   "id": "462a0b12",
   "metadata": {},
   "outputs": [
    {
     "name": "stdout",
     "output_type": "stream",
     "text": [
      "dict_values(['Usain Thunder', 22, 'Computer Science'])\n"
     ]
    }
   ],
   "source": [
    "# using the value method will return a list of all the values in the dictionary\n",
    "\n",
    "y = students.values()\n",
    "print(y)"
   ]
  },
  {
   "cell_type": "code",
   "execution_count": 10,
   "id": "dfe8853c",
   "metadata": {},
   "outputs": [
    {
     "name": "stdout",
     "output_type": "stream",
     "text": [
      "dict_items([('name', 'Usain Thunder'), ('age', 22), ('Department', 'Computer Science')])\n"
     ]
    }
   ],
   "source": [
    "# the items method will return each item in a dictionary\n",
    "\n",
    "z = students.items()\n",
    "print(z)"
   ]
  },
  {
   "cell_type": "markdown",
   "id": "9ec257e9",
   "metadata": {},
   "source": [
    "##### Adding items to a dictionary"
   ]
  },
  {
   "cell_type": "code",
   "execution_count": 11,
   "id": "a3c547bb",
   "metadata": {},
   "outputs": [],
   "source": [
    "students = {\n",
    "    \"name\": \"Usain Thunder\",\n",
    "    \"age\": 22,\n",
    "    \"Department\": \"Computer Science\"\n",
    "}"
   ]
  },
  {
   "cell_type": "code",
   "execution_count": 13,
   "id": "72015b33",
   "metadata": {},
   "outputs": [
    {
     "data": {
      "text/plain": [
       "dict_items([('name', 'Usain Thunder'), ('age', 22), ('Department', 'Computer Science'), ('birthYear', 2001)])"
      ]
     },
     "execution_count": 13,
     "metadata": {},
     "output_type": "execute_result"
    }
   ],
   "source": [
    "# lets add a birthYear item to the dictionary\n",
    "\n",
    "students[\"birthYear\"] = 2001\n",
    "\n",
    "students.items()"
   ]
  },
  {
   "cell_type": "code",
   "execution_count": 14,
   "id": "1a493b3b",
   "metadata": {},
   "outputs": [
    {
     "data": {
      "text/plain": [
       "dict_items([('name', 'Usain Thunder'), ('age', 22), ('Department', 'Computer Science'), ('birthYear', 2001), ('Nationality', 'Nigerian')])"
      ]
     },
     "execution_count": 14,
     "metadata": {},
     "output_type": "execute_result"
    }
   ],
   "source": [
    "# we coud use the update function to add items\n",
    "\n",
    "students.update({\"Nationality\" : \"Nigerian\"})\n",
    "\n",
    "students.items()"
   ]
  },
  {
   "cell_type": "markdown",
   "id": "b47c1ef6",
   "metadata": {},
   "source": [
    "##### Removing items to a dictionary"
   ]
  },
  {
   "cell_type": "code",
   "execution_count": 15,
   "id": "67e797b2",
   "metadata": {},
   "outputs": [],
   "source": [
    "#pop method"
   ]
  },
  {
   "cell_type": "code",
   "execution_count": 16,
   "id": "8366ea7c",
   "metadata": {},
   "outputs": [
    {
     "data": {
      "text/plain": [
       "dict_items([('name', 'Usain Thunder'), ('age', 22), ('Department', 'Computer Science'), ('birthYear', 2001)])"
      ]
     },
     "execution_count": 16,
     "metadata": {},
     "output_type": "execute_result"
    }
   ],
   "source": [
    "students.pop(\"Nationality\")\n",
    "\n",
    "students.items()"
   ]
  },
  {
   "cell_type": "code",
   "execution_count": 17,
   "id": "f7a37a56",
   "metadata": {},
   "outputs": [],
   "source": [
    "# Popitem method"
   ]
  },
  {
   "cell_type": "code",
   "execution_count": 18,
   "id": "0a2cf4bf",
   "metadata": {},
   "outputs": [
    {
     "data": {
      "text/plain": [
       "('birthYear', 2001)"
      ]
     },
     "execution_count": 18,
     "metadata": {},
     "output_type": "execute_result"
    }
   ],
   "source": [
    "students.popitem()"
   ]
  },
  {
   "cell_type": "code",
   "execution_count": 19,
   "id": "09543da1",
   "metadata": {},
   "outputs": [
    {
     "data": {
      "text/plain": [
       "dict_items([('name', 'Usain Thunder'), ('age', 22), ('Department', 'Computer Science')])"
      ]
     },
     "execution_count": 19,
     "metadata": {},
     "output_type": "execute_result"
    }
   ],
   "source": [
    "students.items()"
   ]
  },
  {
   "cell_type": "code",
   "execution_count": null,
   "id": "9d84197d",
   "metadata": {},
   "outputs": [],
   "source": []
  }
 ],
 "metadata": {
  "kernelspec": {
   "display_name": "Python 3 (ipykernel)",
   "language": "python",
   "name": "python3"
  },
  "language_info": {
   "codemirror_mode": {
    "name": "ipython",
    "version": 3
   },
   "file_extension": ".py",
   "mimetype": "text/x-python",
   "name": "python",
   "nbconvert_exporter": "python",
   "pygments_lexer": "ipython3",
   "version": "3.9.12"
  }
 },
 "nbformat": 4,
 "nbformat_minor": 5
}
