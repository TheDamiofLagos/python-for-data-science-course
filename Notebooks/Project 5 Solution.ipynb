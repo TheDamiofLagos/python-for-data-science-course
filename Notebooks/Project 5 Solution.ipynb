{
 "cells": [
  {
   "cell_type": "code",
   "execution_count": 7,
   "id": "ff7dd26d",
   "metadata": {},
   "outputs": [
    {
     "name": "stdout",
     "output_type": "stream",
     "text": [
      "Enter desired number of rows: 10\n",
      "Enter desired number of columns: 10\n",
      "Enter desired minimum value: 1\n",
      "Enter desired maximum value: 100\n"
     ]
    }
   ],
   "source": [
    "# import libraries\n",
    "\n",
    "import numpy as np\n",
    "\n",
    "\n",
    "# let us prompt the user for input\n",
    "\n",
    "n_rows = int(input('Enter desired number of rows: '))\n",
    "n_columns = int(input('Enter desired number of columns: '))\n",
    "min_value = int(input('Enter desired minimum value: '))\n",
    "max_value = int(input('Enter desired maximum value: '))"
   ]
  },
  {
   "cell_type": "code",
   "execution_count": 8,
   "id": "0c58cda9",
   "metadata": {},
   "outputs": [],
   "source": [
    "# generating a numpy array with random value within the user-specified range\n",
    "\n",
    "randomArray = np.random.randint(min_value, max_value + 1, size = (n_rows, n_columns))"
   ]
  },
  {
   "cell_type": "code",
   "execution_count": 9,
   "id": "0977cd0c",
   "metadata": {},
   "outputs": [
    {
     "name": "stdout",
     "output_type": "stream",
     "text": [
      "[[ 56  15  82  53  57  13  85  71  75  81]\n",
      " [ 16  93  96  67  83  31  21  68  50   8]\n",
      " [ 17  87  92  95  95  26  74  59  14  79]\n",
      " [ 50  25   8  95  83  47  99  22  80  79]\n",
      " [ 76   2  58  80  96  47  72  54  57  12]\n",
      " [ 44  19  14  94  59  80  67  81  47  75]\n",
      " [ 96   7  41  30   4  97   7  40  83  90]\n",
      " [ 88  79  69  60 100  72   4  40  10   2]\n",
      " [  8  44  99  18  32  16  24  62  34  47]\n",
      " [ 21  77   8  37  19  15  53  51  26   5]]\n"
     ]
    }
   ],
   "source": [
    "# printing the generated array\n",
    "\n",
    "print(randomArray)"
   ]
  },
  {
   "cell_type": "code",
   "execution_count": null,
   "id": "06e72be8",
   "metadata": {},
   "outputs": [],
   "source": []
  }
 ],
 "metadata": {
  "kernelspec": {
   "display_name": "Python 3 (ipykernel)",
   "language": "python",
   "name": "python3"
  },
  "language_info": {
   "codemirror_mode": {
    "name": "ipython",
    "version": 3
   },
   "file_extension": ".py",
   "mimetype": "text/x-python",
   "name": "python",
   "nbconvert_exporter": "python",
   "pygments_lexer": "ipython3",
   "version": "3.9.12"
  }
 },
 "nbformat": 4,
 "nbformat_minor": 5
}
