{
 "cells": [
  {
   "cell_type": "code",
   "execution_count": 2,
   "id": "6f610899",
   "metadata": {},
   "outputs": [],
   "source": [
    "import numpy as np"
   ]
  },
  {
   "cell_type": "markdown",
   "id": "6411acf0",
   "metadata": {},
   "source": [
    "#### Creating arrays in Numpy"
   ]
  },
  {
   "cell_type": "code",
   "execution_count": 3,
   "id": "f840c852",
   "metadata": {},
   "outputs": [
    {
     "name": "stdout",
     "output_type": "stream",
     "text": [
      "[1 2 3]\n"
     ]
    }
   ],
   "source": [
    "myArray = np.array([1, 2, 3])\n",
    "print(myArray)"
   ]
  },
  {
   "cell_type": "code",
   "execution_count": 7,
   "id": "a2d65183",
   "metadata": {},
   "outputs": [
    {
     "name": "stdout",
     "output_type": "stream",
     "text": [
      "34\n",
      "0\n"
     ]
    }
   ],
   "source": [
    "# Creating a zero-dimension array (also called scalers)\n",
    "\n",
    "zero_dim = np.array(34)\n",
    "print(zero_dim)\n",
    "print(zero_dim.ndim)"
   ]
  },
  {
   "cell_type": "code",
   "execution_count": 9,
   "id": "81b9d060",
   "metadata": {},
   "outputs": [
    {
     "name": "stdout",
     "output_type": "stream",
     "text": [
      "[1 3 5]\n",
      "1\n"
     ]
    }
   ],
   "source": [
    "# Creating a one-dimension array\n",
    "\n",
    "one_dim = np.array([1, 3, 5])\n",
    "print(one_dim)\n",
    "print(one_dim.ndim)"
   ]
  },
  {
   "cell_type": "code",
   "execution_count": 11,
   "id": "bfe426e4",
   "metadata": {},
   "outputs": [
    {
     "name": "stdout",
     "output_type": "stream",
     "text": [
      "[[1 3 5]\n",
      " [2 4 6]]\n",
      "2\n"
     ]
    }
   ],
   "source": [
    "# Creating a two-dimension array\n",
    "\n",
    "two_dim = np.array([[1, 3, 5],[2, 4, 6]])\n",
    "print(two_dim)\n",
    "print(two_dim.ndim)"
   ]
  },
  {
   "cell_type": "code",
   "execution_count": 14,
   "id": "98e93c08",
   "metadata": {},
   "outputs": [
    {
     "name": "stdout",
     "output_type": "stream",
     "text": [
      "[[[1 3 5]\n",
      "  [2 4 6]]\n",
      "\n",
      " [[4 5 6]\n",
      "  [7 8 9]]]\n",
      "3\n"
     ]
    }
   ],
   "source": [
    "# Creating a three-dimension array\n",
    "\n",
    "three_dim = np.array([[[1, 3, 5],[2, 4, 6]], [[4, 5, 6],[7, 8, 9]]])\n",
    "print(three_dim)\n",
    "print(three_dim.ndim)"
   ]
  },
  {
   "cell_type": "markdown",
   "id": "8ba7bc9b",
   "metadata": {},
   "source": [
    "#### Indexing Numpy Arrays"
   ]
  },
  {
   "cell_type": "code",
   "execution_count": 16,
   "id": "398054ca",
   "metadata": {},
   "outputs": [
    {
     "data": {
      "text/plain": [
       "20"
      ]
     },
     "execution_count": 16,
     "metadata": {},
     "output_type": "execute_result"
    }
   ],
   "source": [
    "myArray = np.array([10, 20, 30, 40, 50])\n",
    "myArray[1] #Accessing the second element in the array"
   ]
  },
  {
   "cell_type": "code",
   "execution_count": 17,
   "id": "0fd46457",
   "metadata": {},
   "outputs": [
    {
     "data": {
      "text/plain": [
       "10"
      ]
     },
     "execution_count": 17,
     "metadata": {},
     "output_type": "execute_result"
    }
   ],
   "source": [
    "myArray[0] #Accessing the first element in the array"
   ]
  },
  {
   "cell_type": "code",
   "execution_count": 22,
   "id": "3297375c",
   "metadata": {},
   "outputs": [
    {
     "data": {
      "text/plain": [
       "9"
      ]
     },
     "execution_count": 22,
     "metadata": {},
     "output_type": "execute_result"
    }
   ],
   "source": [
    "twoDim = np.array([[1, 2, 3, 4, 5], [6, 7, 8, 9, 10]])\n",
    "twoDim[1, 3]"
   ]
  },
  {
   "cell_type": "markdown",
   "id": "a7b0afb8",
   "metadata": {},
   "source": [
    "#### Slicing Numpy Arrays"
   ]
  },
  {
   "cell_type": "code",
   "execution_count": 26,
   "id": "b11cb924",
   "metadata": {},
   "outputs": [
    {
     "data": {
      "text/plain": [
       "array([10, 20, 30, 40])"
      ]
     },
     "execution_count": 26,
     "metadata": {},
     "output_type": "execute_result"
    }
   ],
   "source": [
    "myArray = np.array([10, 20, 30, 40, 50])\n",
    "myArray[0:4]"
   ]
  },
  {
   "cell_type": "code",
   "execution_count": 29,
   "id": "df76d0ef",
   "metadata": {},
   "outputs": [
    {
     "data": {
      "text/plain": [
       "array([6, 7, 8, 9])"
      ]
     },
     "execution_count": 29,
     "metadata": {},
     "output_type": "execute_result"
    }
   ],
   "source": [
    "twoDim = np.array([[1, 2, 3, 4, 5], [6, 7, 8, 9, 10]])\n",
    "twoDim[1, 0:4]"
   ]
  },
  {
   "cell_type": "markdown",
   "id": "7128aef4",
   "metadata": {},
   "source": [
    "#### Copying an Array"
   ]
  },
  {
   "cell_type": "code",
   "execution_count": 30,
   "id": "9ffa4ce7",
   "metadata": {},
   "outputs": [],
   "source": [
    "originalArray = np.array([1, 2, 3, 4, 5])\n",
    "\n",
    "copiedArray = originalArray.copy()"
   ]
  },
  {
   "cell_type": "markdown",
   "id": "467b111f",
   "metadata": {},
   "source": [
    "#### Viewing Arrays"
   ]
  },
  {
   "cell_type": "code",
   "execution_count": 31,
   "id": "21f8efcb",
   "metadata": {},
   "outputs": [],
   "source": [
    "originalArray = np.array([1, 2, 3, 4, 5])\n",
    "\n",
    "arrayView = originalArray.view()"
   ]
  },
  {
   "cell_type": "markdown",
   "id": "f10fdc5f",
   "metadata": {},
   "source": [
    "#### Shape of an Array"
   ]
  },
  {
   "cell_type": "code",
   "execution_count": 35,
   "id": "d4355972",
   "metadata": {},
   "outputs": [
    {
     "name": "stdout",
     "output_type": "stream",
     "text": [
      "(5,)\n"
     ]
    }
   ],
   "source": [
    "myArray = np.array([10, 20, 30, 40, 50])\n",
    "print(myArray.shape)"
   ]
  },
  {
   "cell_type": "code",
   "execution_count": 38,
   "id": "8ffa5fc7",
   "metadata": {},
   "outputs": [
    {
     "name": "stdout",
     "output_type": "stream",
     "text": [
      "(3, 4)\n"
     ]
    }
   ],
   "source": [
    "twoDim = np.array([[1, 2, 3, 4], [6, 7, 8, 9], [12, 13, 14, 15]])\n",
    "print(twoDim.shape)"
   ]
  },
  {
   "cell_type": "markdown",
   "id": "2b44803a",
   "metadata": {},
   "source": [
    "#### Reshaping an Array"
   ]
  },
  {
   "cell_type": "code",
   "execution_count": 40,
   "id": "e40bfba8",
   "metadata": {},
   "outputs": [
    {
     "name": "stdout",
     "output_type": "stream",
     "text": [
      "[[ 10  20  30  40  50]\n",
      " [ 60  70  80  90 100]]\n"
     ]
    }
   ],
   "source": [
    "# Reshaping from 1d to 2d \n",
    "\n",
    "# the outermost dimension will have 2 arrays; \n",
    "# and those arrays will have 5 elements\n",
    "\n",
    "arr = np.array([10, 20, 30, 40, 50, 60, 70, 80, 90, 100])\n",
    "\n",
    "newArray = arr.reshape(2, 5)\n",
    "print(newArray)"
   ]
  },
  {
   "cell_type": "code",
   "execution_count": 41,
   "id": "75aeec5c",
   "metadata": {},
   "outputs": [
    {
     "name": "stdout",
     "output_type": "stream",
     "text": [
      "[[[ 10  20]\n",
      "  [ 30  40]\n",
      "  [ 50  60]]\n",
      "\n",
      " [[ 70  80]\n",
      "  [ 90 100]\n",
      "  [110 120]]]\n"
     ]
    }
   ],
   "source": [
    "# Reshaping from 1d to 3d \n",
    "\n",
    "# the outermost array would have 2 arrays that would hold 3 arrays\n",
    "# those 3 arrays would have 2 elements\n",
    "\n",
    "arr = np.array([10, 20, 30, 40, 50, 60, 70, 80, 90, 100, 110, 120])\n",
    "\n",
    "newArray = arr.reshape(2, 3, 2)\n",
    "\n",
    "print(newArray)"
   ]
  },
  {
   "cell_type": "markdown",
   "id": "36d203ec",
   "metadata": {},
   "source": [
    "#### Basic Operation in Numpy"
   ]
  },
  {
   "cell_type": "code",
   "execution_count": 45,
   "id": "5d45041f",
   "metadata": {},
   "outputs": [
    {
     "name": "stdout",
     "output_type": "stream",
     "text": [
      "[0 2 4 6 8]\n"
     ]
    }
   ],
   "source": [
    "# arange function\n",
    "\n",
    "# myArray = np.arange(start, stop, step)\n",
    "\n",
    "myArray = np.arange(0, 10, 2)\n",
    "\n",
    "print(myArray)"
   ]
  },
  {
   "cell_type": "code",
   "execution_count": 47,
   "id": "146043e2",
   "metadata": {},
   "outputs": [
    {
     "name": "stdout",
     "output_type": "stream",
     "text": [
      "[101 102 103 104]\n"
     ]
    }
   ],
   "source": [
    "secondArray = np.arange(101, 105, 1)\n",
    "print(secondArray)"
   ]
  },
  {
   "cell_type": "code",
   "execution_count": 48,
   "id": "cda3b38d",
   "metadata": {},
   "outputs": [
    {
     "name": "stdout",
     "output_type": "stream",
     "text": [
      "[15 30 45 60]\n"
     ]
    }
   ],
   "source": [
    "# Basic Mathematical Operations\n",
    "\n",
    "\n",
    "# Addition\n",
    "\n",
    "a = np.array([10, 20, 30, 40])\n",
    "b = np.array([5, 10, 15, 20])\n",
    "\n",
    "print(a + b)"
   ]
  },
  {
   "cell_type": "code",
   "execution_count": 49,
   "id": "dc422886",
   "metadata": {},
   "outputs": [
    {
     "name": "stdout",
     "output_type": "stream",
     "text": [
      "[ 5 10 15 20]\n"
     ]
    }
   ],
   "source": [
    "# Subtraction\n",
    "print(a - b)"
   ]
  },
  {
   "cell_type": "code",
   "execution_count": 50,
   "id": "4082049e",
   "metadata": {},
   "outputs": [
    {
     "name": "stdout",
     "output_type": "stream",
     "text": [
      "[ 50 200 450 800]\n"
     ]
    }
   ],
   "source": [
    "# Multiplication\n",
    "print(a * b)"
   ]
  },
  {
   "cell_type": "code",
   "execution_count": 51,
   "id": "7f3d1371",
   "metadata": {},
   "outputs": [
    {
     "name": "stdout",
     "output_type": "stream",
     "text": [
      "[2. 2. 2. 2.]\n"
     ]
    }
   ],
   "source": [
    "# Division\n",
    "print(a / b)"
   ]
  },
  {
   "cell_type": "code",
   "execution_count": 53,
   "id": "8118332b",
   "metadata": {},
   "outputs": [
    {
     "name": "stdout",
     "output_type": "stream",
     "text": [
      "[10 20 30 40]\n",
      "[20 40 60 80]\n"
     ]
    }
   ],
   "source": [
    "# Multiply all the elements in an array by a number\n",
    "print(a)\n",
    "print(a * 2)"
   ]
  },
  {
   "cell_type": "code",
   "execution_count": 54,
   "id": "7d90b7ed",
   "metadata": {},
   "outputs": [
    {
     "name": "stdout",
     "output_type": "stream",
     "text": [
      "[ 100  400  900 1600]\n"
     ]
    }
   ],
   "source": [
    "print(a ** 2)"
   ]
  },
  {
   "cell_type": "code",
   "execution_count": 55,
   "id": "bb4c7043",
   "metadata": {},
   "outputs": [
    {
     "name": "stdout",
     "output_type": "stream",
     "text": [
      "[3.16227766 4.47213595 5.47722558 6.32455532]\n"
     ]
    }
   ],
   "source": [
    "# sqrt\n",
    "print(np.sqrt(a))"
   ]
  },
  {
   "cell_type": "markdown",
   "id": "d5a440ed",
   "metadata": {},
   "source": [
    "#### Data Analytics Operations in Numpy"
   ]
  },
  {
   "cell_type": "code",
   "execution_count": 57,
   "id": "9d9be41f",
   "metadata": {},
   "outputs": [],
   "source": [
    "# Create our arrays\n",
    "\n",
    "one_dim = np.array([10, 20, 30, 40])\n",
    "two_dim = np.array([[4, 8, 12, 16], [2, 4, 6, 8]])"
   ]
  },
  {
   "cell_type": "code",
   "execution_count": 58,
   "id": "365c97c2",
   "metadata": {},
   "outputs": [
    {
     "name": "stdout",
     "output_type": "stream",
     "text": [
      "100\n"
     ]
    }
   ],
   "source": [
    "# Summations\n",
    "\n",
    "# 1d\n",
    "print(sum(one_dim))"
   ]
  },
  {
   "cell_type": "code",
   "execution_count": 59,
   "id": "5c8196f9",
   "metadata": {},
   "outputs": [
    {
     "name": "stdout",
     "output_type": "stream",
     "text": [
      "[ 6 12 18 24]\n"
     ]
    }
   ],
   "source": [
    "# 2d\n",
    "print(sum(two_dim))"
   ]
  },
  {
   "cell_type": "code",
   "execution_count": 60,
   "id": "0345ef4b",
   "metadata": {},
   "outputs": [
    {
     "name": "stdout",
     "output_type": "stream",
     "text": [
      "100\n"
     ]
    }
   ],
   "source": [
    "print(one_dim.sum())"
   ]
  },
  {
   "cell_type": "code",
   "execution_count": 61,
   "id": "fca76838",
   "metadata": {},
   "outputs": [
    {
     "name": "stdout",
     "output_type": "stream",
     "text": [
      "60\n"
     ]
    }
   ],
   "source": [
    "print(two_dim.sum())"
   ]
  },
  {
   "cell_type": "code",
   "execution_count": 63,
   "id": "2e4b1b0d",
   "metadata": {},
   "outputs": [
    {
     "name": "stdout",
     "output_type": "stream",
     "text": [
      "10\n",
      "2\n"
     ]
    }
   ],
   "source": [
    "# Min and Max\n",
    "\n",
    "#Min\n",
    "print(one_dim.min())\n",
    "print(two_dim.min())"
   ]
  },
  {
   "cell_type": "code",
   "execution_count": 64,
   "id": "741dee6a",
   "metadata": {},
   "outputs": [
    {
     "name": "stdout",
     "output_type": "stream",
     "text": [
      "40\n",
      "16\n"
     ]
    }
   ],
   "source": [
    "#Max\n",
    "print(one_dim.max())\n",
    "print(two_dim.max())"
   ]
  },
  {
   "cell_type": "code",
   "execution_count": 65,
   "id": "6fac7027",
   "metadata": {},
   "outputs": [
    {
     "name": "stdout",
     "output_type": "stream",
     "text": [
      "[[ 4  8 12 16]\n",
      " [ 2  4  6  8]\n",
      " [ 5 10 15 20]]\n"
     ]
    }
   ],
   "source": [
    "arr = np.array([[4, 8, 12, 16], [2, 4, 6, 8], [5, 10, 15, 20]])\n",
    "print(arr)"
   ]
  },
  {
   "cell_type": "code",
   "execution_count": 66,
   "id": "8dfc54b3",
   "metadata": {},
   "outputs": [
    {
     "name": "stdout",
     "output_type": "stream",
     "text": [
      "[40 20 50]\n"
     ]
    }
   ],
   "source": [
    "# summation across rows in arrays\n",
    "print(arr.sum(axis=1))"
   ]
  },
  {
   "cell_type": "code",
   "execution_count": 73,
   "id": "9d9d7fdb",
   "metadata": {},
   "outputs": [
    {
     "name": "stdout",
     "output_type": "stream",
     "text": [
      "[11 22 33 44]\n"
     ]
    }
   ],
   "source": [
    "# summation across columns in arrays\n",
    "print(arr.sum(axis=0))"
   ]
  },
  {
   "cell_type": "code",
   "execution_count": 77,
   "id": "2c1537ca",
   "metadata": {},
   "outputs": [
    {
     "name": "stdout",
     "output_type": "stream",
     "text": [
      "[[ 4  8 12 16]\n",
      " [ 2  4  6  8]\n",
      " [ 5 10 15 20]]\n"
     ]
    }
   ],
   "source": [
    "print(arr)"
   ]
  },
  {
   "cell_type": "code",
   "execution_count": 78,
   "id": "cf29150b",
   "metadata": {},
   "outputs": [
    {
     "name": "stdout",
     "output_type": "stream",
     "text": [
      "[10.   5.  12.5]\n"
     ]
    }
   ],
   "source": [
    "# mean across the rows\n",
    "print(arr.mean(axis = 1))"
   ]
  },
  {
   "cell_type": "code",
   "execution_count": 79,
   "id": "a68192d6",
   "metadata": {},
   "outputs": [
    {
     "name": "stdout",
     "output_type": "stream",
     "text": [
      "[ 3.66666667  7.33333333 11.         14.66666667]\n"
     ]
    }
   ],
   "source": [
    "# mean across the columns\n",
    "print(arr.mean(axis = 0))"
   ]
  },
  {
   "cell_type": "code",
   "execution_count": 81,
   "id": "4c1000a3",
   "metadata": {},
   "outputs": [],
   "source": [
    "o = np.arange(0, 101, 2)"
   ]
  },
  {
   "cell_type": "code",
   "execution_count": 82,
   "id": "b2207423",
   "metadata": {},
   "outputs": [
    {
     "data": {
      "text/plain": [
       "(51,)"
      ]
     },
     "execution_count": 82,
     "metadata": {},
     "output_type": "execute_result"
    }
   ],
   "source": [
    "o.shape"
   ]
  },
  {
   "cell_type": "code",
   "execution_count": null,
   "id": "73e302ae",
   "metadata": {},
   "outputs": [],
   "source": []
  }
 ],
 "metadata": {
  "kernelspec": {
   "display_name": "Python 3 (ipykernel)",
   "language": "python",
   "name": "python3"
  },
  "language_info": {
   "codemirror_mode": {
    "name": "ipython",
    "version": 3
   },
   "file_extension": ".py",
   "mimetype": "text/x-python",
   "name": "python",
   "nbconvert_exporter": "python",
   "pygments_lexer": "ipython3",
   "version": "3.9.12"
  }
 },
 "nbformat": 4,
 "nbformat_minor": 5
}
