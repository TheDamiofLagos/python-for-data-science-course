{
 "cells": [
  {
   "cell_type": "markdown",
   "id": "8c780b9d",
   "metadata": {},
   "source": [
    "#### Functions"
   ]
  },
  {
   "cell_type": "markdown",
   "id": "45ec86fe",
   "metadata": {},
   "source": [
    "###### A function is like a mini-program within your program. It's a named block of code that can take inputs, perform actions, and return results. "
   ]
  },
  {
   "cell_type": "code",
   "execution_count": 1,
   "id": "d322036d",
   "metadata": {},
   "outputs": [],
   "source": [
    "# STRUCTURE OF A FUNCTION\n",
    "\n",
    "# A function starts with the 'def' keyword followed by the function name and a parenthesis\n",
    "# Inside the parenthesis, we can define the parameters or inputs that the function accepts\n",
    "# A colon : that marks the beginning of the function code\n",
    "# The code in the function is indented and defines the action that the function performs\n",
    "# we use the return statement to specify what the function should output"
   ]
  },
  {
   "cell_type": "code",
   "execution_count": 2,
   "id": "c100193c",
   "metadata": {},
   "outputs": [],
   "source": [
    "# Create a function that takes in a number and returns the square of that number\n",
    "\n",
    "def get_squared(number):\n",
    "    result = number * number\n",
    "    return result"
   ]
  },
  {
   "cell_type": "code",
   "execution_count": 5,
   "id": "9c3923f1",
   "metadata": {},
   "outputs": [
    {
     "data": {
      "text/plain": [
       "1004004"
      ]
     },
     "execution_count": 5,
     "metadata": {},
     "output_type": "execute_result"
    }
   ],
   "source": [
    "# Calling the function\n",
    "\n",
    "get_squared(1002)"
   ]
  },
  {
   "cell_type": "code",
   "execution_count": 6,
   "id": "9bb8160e",
   "metadata": {},
   "outputs": [],
   "source": [
    "# takes 2 numbers as input and adds them together\n",
    "\n",
    "def add_num(num1, num2):\n",
    "    total = num1 + num2\n",
    "    return total"
   ]
  },
  {
   "cell_type": "code",
   "execution_count": 7,
   "id": "6ac3908b",
   "metadata": {},
   "outputs": [
    {
     "data": {
      "text/plain": [
       "67"
      ]
     },
     "execution_count": 7,
     "metadata": {},
     "output_type": "execute_result"
    }
   ],
   "source": [
    "add_num(3, 64)"
   ]
  },
  {
   "cell_type": "code",
   "execution_count": 8,
   "id": "8af94338",
   "metadata": {},
   "outputs": [],
   "source": [
    "def birthday(name):\n",
    "    print('Happy birthday', name)"
   ]
  },
  {
   "cell_type": "code",
   "execution_count": 9,
   "id": "1abf4b04",
   "metadata": {},
   "outputs": [
    {
     "name": "stdout",
     "output_type": "stream",
     "text": [
      "Happy birthday Damilare\n"
     ]
    }
   ],
   "source": [
    "birthday('Damilare')"
   ]
  },
  {
   "cell_type": "code",
   "execution_count": 11,
   "id": "9d1bc136",
   "metadata": {},
   "outputs": [
    {
     "name": "stdout",
     "output_type": "stream",
     "text": [
      "Happy birthday Victor\n"
     ]
    }
   ],
   "source": [
    "birthday(name = 'Victor')"
   ]
  },
  {
   "cell_type": "markdown",
   "id": "8964113d",
   "metadata": {},
   "source": [
    "##### Lambda Functions"
   ]
  },
  {
   "cell_type": "code",
   "execution_count": 12,
   "id": "8b0e69c5",
   "metadata": {},
   "outputs": [
    {
     "data": {
      "text/plain": [
       "6"
      ]
     },
     "execution_count": 12,
     "metadata": {},
     "output_type": "execute_result"
    }
   ],
   "source": [
    "# lets create a regular function that add 2 numbers\n",
    "\n",
    "def add_numbers(x, y):\n",
    "    return x + y\n",
    "\n",
    "add_numbers(2, 4)"
   ]
  },
  {
   "cell_type": "code",
   "execution_count": 14,
   "id": "1f189216",
   "metadata": {},
   "outputs": [
    {
     "name": "stdout",
     "output_type": "stream",
     "text": [
      "6\n"
     ]
    }
   ],
   "source": [
    "lambda_add = lambda x, y: x + y\n",
    "\n",
    "# x, y is the arguement\n",
    "# x + y is the expression\n",
    "\n",
    "result = lambda_add(2, 4)\n",
    "print(result)"
   ]
  },
  {
   "cell_type": "code",
   "execution_count": 16,
   "id": "fc9f596c",
   "metadata": {},
   "outputs": [],
   "source": [
    "import arit as at"
   ]
  },
  {
   "cell_type": "code",
   "execution_count": 18,
   "id": "dfbb289a",
   "metadata": {},
   "outputs": [
    {
     "data": {
      "text/plain": [
       "3"
      ]
     },
     "execution_count": 18,
     "metadata": {},
     "output_type": "execute_result"
    }
   ],
   "source": [
    "at.add(1, 2)"
   ]
  },
  {
   "cell_type": "markdown",
   "id": "e4d364df",
   "metadata": {},
   "source": [
    "#### Modules"
   ]
  },
  {
   "cell_type": "code",
   "execution_count": 23,
   "id": "c81aa1e0",
   "metadata": {},
   "outputs": [],
   "source": [
    "import math as mt"
   ]
  },
  {
   "cell_type": "code",
   "execution_count": 25,
   "id": "33488adf",
   "metadata": {},
   "outputs": [
    {
     "data": {
      "text/plain": [
       "5.0"
      ]
     },
     "execution_count": 25,
     "metadata": {},
     "output_type": "execute_result"
    }
   ],
   "source": [
    "mt.sqrt(25)"
   ]
  },
  {
   "cell_type": "code",
   "execution_count": 26,
   "id": "a4c92526",
   "metadata": {},
   "outputs": [
    {
     "data": {
      "text/plain": [
       "32.0"
      ]
     },
     "execution_count": 26,
     "metadata": {},
     "output_type": "execute_result"
    }
   ],
   "source": [
    "mt.pow(2, 5)"
   ]
  },
  {
   "cell_type": "code",
   "execution_count": 27,
   "id": "5bafc095",
   "metadata": {},
   "outputs": [],
   "source": [
    "import arithmetic as at"
   ]
  },
  {
   "cell_type": "code",
   "execution_count": 28,
   "id": "05d950f8",
   "metadata": {},
   "outputs": [
    {
     "data": {
      "text/plain": [
       "4"
      ]
     },
     "execution_count": 28,
     "metadata": {},
     "output_type": "execute_result"
    }
   ],
   "source": [
    "at.minus(7, 3)"
   ]
  },
  {
   "cell_type": "code",
   "execution_count": null,
   "id": "2a4709ed",
   "metadata": {},
   "outputs": [],
   "source": []
  }
 ],
 "metadata": {
  "kernelspec": {
   "display_name": "Python 3 (ipykernel)",
   "language": "python",
   "name": "python3"
  },
  "language_info": {
   "codemirror_mode": {
    "name": "ipython",
    "version": 3
   },
   "file_extension": ".py",
   "mimetype": "text/x-python",
   "name": "python",
   "nbconvert_exporter": "python",
   "pygments_lexer": "ipython3",
   "version": "3.9.12"
  }
 },
 "nbformat": 4,
 "nbformat_minor": 5
}
