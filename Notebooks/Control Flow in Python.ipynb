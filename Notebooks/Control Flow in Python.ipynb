{
 "cells": [
  {
   "cell_type": "markdown",
   "id": "a13807ac",
   "metadata": {},
   "source": [
    "### Control flow in python"
   ]
  },
  {
   "cell_type": "markdown",
   "id": "4f073207",
   "metadata": {},
   "source": [
    "#### Conditional Statements"
   ]
  },
  {
   "cell_type": "markdown",
   "id": "8f47e233",
   "metadata": {},
   "source": [
    "##### The if statement"
   ]
  },
  {
   "cell_type": "code",
   "execution_count": 7,
   "id": "fa9dfd0c",
   "metadata": {},
   "outputs": [],
   "source": [
    "age = 5\n",
    "\n",
    "if age > 10:  \n",
    "    print('Congratulations! you can proceed')"
   ]
  },
  {
   "cell_type": "markdown",
   "id": "9672b7b4",
   "metadata": {},
   "source": [
    "##### The else statement"
   ]
  },
  {
   "cell_type": "code",
   "execution_count": 15,
   "id": "43794692",
   "metadata": {},
   "outputs": [
    {
     "name": "stdout",
     "output_type": "stream",
     "text": [
      "Sorry, you are too young for this\n"
     ]
    }
   ],
   "source": [
    "# But what happens if the condition isn't met? \n",
    "# That's where the 'else' statement steps in. \n",
    "# It's like having an alternative plan: \n",
    "# 'If the answer is no, do this instead.\n",
    "\n",
    "age = 9\n",
    "if age >= 10:\n",
    "    print('Congratulations! you can proceed')\n",
    "else:\n",
    "    print('Sorry, you are too young for this')"
   ]
  },
  {
   "cell_type": "markdown",
   "id": "930ddeee",
   "metadata": {},
   "source": [
    "##### The elif statement"
   ]
  },
  {
   "cell_type": "code",
   "execution_count": 20,
   "id": "65d019ef",
   "metadata": {},
   "outputs": [
    {
     "name": "stdout",
     "output_type": "stream",
     "text": [
      "Its not too chilly\n"
     ]
    }
   ],
   "source": [
    "# the elif statement is short for else-if\n",
    "\n",
    "temperature = 18\n",
    "\n",
    "if temperature > 30:\n",
    "    print('Its a very hot day')\n",
    "elif temperature > 20:\n",
    "    print('Its a delightful day')\n",
    "elif temperature > 10:\n",
    "    print('Its not too chilly')\n",
    "else:\n",
    "    print('Its a bit chilly')"
   ]
  },
  {
   "cell_type": "markdown",
   "id": "4ab515a1",
   "metadata": {},
   "source": [
    "##### Logical Operators"
   ]
  },
  {
   "cell_type": "code",
   "execution_count": 27,
   "id": "fcda90dc",
   "metadata": {},
   "outputs": [
    {
     "name": "stdout",
     "output_type": "stream",
     "text": [
      "Both of them are not older\n"
     ]
    }
   ],
   "source": [
    "# and operator\n",
    "\n",
    "#check if Tunde and Mary are older than Felix\n",
    "ageTunde = 15\n",
    "ageMary = 5\n",
    "ageFelix = 13\n",
    "\n",
    "if ageTunde > ageFelix and ageMary > ageFelix:\n",
    "    print('Both are older')\n",
    "else:\n",
    "    print('Both of them are not older')"
   ]
  },
  {
   "cell_type": "code",
   "execution_count": 28,
   "id": "3991a07b",
   "metadata": {},
   "outputs": [
    {
     "name": "stdout",
     "output_type": "stream",
     "text": [
      "At least One is older than Felix\n"
     ]
    }
   ],
   "source": [
    "# or operator\n",
    "\n",
    "if ageTunde > ageFelix or ageMary > ageFelix:\n",
    "    print('At least One is older than Felix')\n",
    "else:\n",
    "    print('none is older')"
   ]
  },
  {
   "cell_type": "code",
   "execution_count": 30,
   "id": "7c389fd3",
   "metadata": {},
   "outputs": [
    {
     "name": "stdout",
     "output_type": "stream",
     "text": [
      "a is not greater\n"
     ]
    }
   ],
   "source": [
    "# not operator\n",
    "\n",
    "a = 33\n",
    "b = 200\n",
    "\n",
    "if not a > b:\n",
    "    print('a is not greater')"
   ]
  },
  {
   "cell_type": "markdown",
   "id": "5f42100b",
   "metadata": {},
   "source": [
    "#### Loops"
   ]
  },
  {
   "cell_type": "markdown",
   "id": "a90b5d53",
   "metadata": {},
   "source": [
    "##### For Loop"
   ]
  },
  {
   "cell_type": "code",
   "execution_count": 37,
   "id": "345cefd6",
   "metadata": {},
   "outputs": [
    {
     "name": "stdout",
     "output_type": "stream",
     "text": [
      "I love apple\n",
      "I love banana\n",
      "I love oranges\n"
     ]
    }
   ],
   "source": [
    "fruits = ['apple', 'banana', 'oranges']\n",
    "\n",
    "for i in fruits:\n",
    "    print('I love', i)"
   ]
  },
  {
   "cell_type": "code",
   "execution_count": 38,
   "id": "cee7bd0c",
   "metadata": {},
   "outputs": [
    {
     "name": "stdout",
     "output_type": "stream",
     "text": [
      "D\n",
      "a\n",
      "m\n",
      "i\n",
      "l\n",
      "a\n",
      "r\n",
      "e\n"
     ]
    }
   ],
   "source": [
    "name = 'Damilare'\n",
    "\n",
    "for char in name:\n",
    "    print(char)"
   ]
  },
  {
   "cell_type": "code",
   "execution_count": 42,
   "id": "59ce0ea8",
   "metadata": {},
   "outputs": [
    {
     "data": {
      "text/plain": [
       "[1, 6, 11, 16]"
      ]
     },
     "execution_count": 42,
     "metadata": {},
     "output_type": "execute_result"
    }
   ],
   "source": [
    "# range(start, stop, step)\n",
    "\n",
    "list(range(1, 20, 5))"
   ]
  },
  {
   "cell_type": "code",
   "execution_count": 45,
   "id": "aaa25d12",
   "metadata": {},
   "outputs": [
    {
     "data": {
      "text/plain": [
       "[0, 1, 2]"
      ]
     },
     "execution_count": 45,
     "metadata": {},
     "output_type": "execute_result"
    }
   ],
   "source": [
    "list(range(3))"
   ]
  },
  {
   "cell_type": "code",
   "execution_count": 46,
   "id": "eef22b99",
   "metadata": {},
   "outputs": [
    {
     "name": "stdout",
     "output_type": "stream",
     "text": [
      "0\n",
      "1\n",
      "2\n"
     ]
    }
   ],
   "source": [
    "for x in range(3):\n",
    "    print(x)"
   ]
  },
  {
   "cell_type": "markdown",
   "id": "492b43e4",
   "metadata": {},
   "source": [
    "##### While loops"
   ]
  },
  {
   "cell_type": "code",
   "execution_count": 51,
   "id": "67365144",
   "metadata": {},
   "outputs": [
    {
     "name": "stdout",
     "output_type": "stream",
     "text": [
      "sending message 0\n",
      "sending message 1\n",
      "sending message 2\n",
      "sending message 3\n",
      "sending message 4\n"
     ]
    }
   ],
   "source": [
    "# initialization\n",
    "# condition\n",
    "# update\n",
    "\n",
    "messagecount = 0                                          # initialization\n",
    "\n",
    "while messagecount < 5:                                        # condition\n",
    "    print('sending message', messagecount)\n",
    "    \n",
    "    messagecount = messagecount + 1                          # update"
   ]
  },
  {
   "cell_type": "code",
   "execution_count": null,
   "id": "8fd9eca4",
   "metadata": {},
   "outputs": [],
   "source": []
  }
 ],
 "metadata": {
  "kernelspec": {
   "display_name": "Python 3 (ipykernel)",
   "language": "python",
   "name": "python3"
  },
  "language_info": {
   "codemirror_mode": {
    "name": "ipython",
    "version": 3
   },
   "file_extension": ".py",
   "mimetype": "text/x-python",
   "name": "python",
   "nbconvert_exporter": "python",
   "pygments_lexer": "ipython3",
   "version": "3.9.12"
  }
 },
 "nbformat": 4,
 "nbformat_minor": 5
}
